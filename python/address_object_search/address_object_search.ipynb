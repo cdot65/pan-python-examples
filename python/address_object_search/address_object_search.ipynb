{
 "cells": [
  {
   "cell_type": "markdown",
   "metadata": {},
   "source": [
    "# Locate Address Object"
   ]
  },
  {
   "cell_type": "markdown",
   "metadata": {},
   "source": [
    "## Imports\n",
    "\n",
    "We need to import several libraries to accomplish our task"
   ]
  },
  {
   "cell_type": "code",
   "execution_count": 1,
   "metadata": {},
   "outputs": [],
   "source": [
    "# standard library imports\n",
    "import os\n",
    "\n",
    "# third party library imports\n",
    "import argparse\n",
    "import pandas as pd\n",
    "from tabulate import tabulate\n",
    "from dotenv import load_dotenv\n",
    "\n",
    "\n",
    "# Palo Alto Networks imports\n",
    "from panos.panorama import Panorama, DeviceGroup\n",
    "from panos.objects import AddressObject, AddressGroup"
   ]
  },
  {
   "cell_type": "markdown",
   "metadata": {},
   "source": [
    "## Set up our connection to Panorama\n",
    "\n",
    "We will leverage `python-dotenv` to load environment variables into our script. After the basic credientials have been loaded into a Panorama object, we will save that object as `pan`"
   ]
  },
  {
   "cell_type": "code",
   "execution_count": 2,
   "metadata": {},
   "outputs": [],
   "source": [
    "load_dotenv(\".env\")\n",
    "PANURL = os.environ.get(\"PANURL\", \"panorama.lab\")\n",
    "PANUSER = os.environ.get(\"PANUSER\", \"automation\")\n",
    "PANPASS = os.environ.get(\"PANPASS\", \"mysecretpassword\")\n",
    "pan = Panorama(PANURL, PANUSER, PANPASS)"
   ]
  },
  {
   "cell_type": "markdown",
   "metadata": {},
   "source": [
    "## Main function\n",
    "\n",
    "Here is where our program lives\n"
   ]
  },
  {
   "cell_type": "code",
   "execution_count": 3,
   "metadata": {},
   "outputs": [],
   "source": [
    "def grab_config():\n",
    "    \"\"\"\n",
    "    Description: collect configuration objects from Panorama.\n",
    "    Workflow: \n",
    "        1. Pull in various components of a Panorama configuration.\n",
    "            - Device Groups\n",
    "            - Address Groups\n",
    "            - Address Objects\n",
    "        2. Identify all address objects and append them to \"address_objects\"\n",
    "        3. Identify all address groups and append them to \"address_groups\"\n",
    "        4. Loop over device groups and perform steps 2 & 3 again.\n",
    "    Return:\n",
    "        - name: address_groups\n",
    "          type: tuple\n",
    "        - name: address_objects\n",
    "          type: tuple\n",
    "    \"\"\"\n",
    "\n",
    "\n",
    "    # load Panorama configuration objects\n",
    "    pan_address_objects = AddressObject.refreshall(pan)\n",
    "    pan_address_groups = AddressGroup.refreshall(pan)\n",
    "\n",
    "    # create empty placeholders\n",
    "    address_objects = []\n",
    "    address_groups = []\n",
    "    \n",
    "    # append shared config address objects\n",
    "    for each in pan_address_objects:\n",
    "        address_objects.append((\"Shared\", each.name, each.value, each.type))\n",
    "\n",
    "    # append shared config address groups\n",
    "    for each in pan_address_groups:\n",
    "        if each.static_value:\n",
    "            if not each.description:\n",
    "                each.description = \"\"\n",
    "            address_groups.append((\"Shared\", each.name, each.description, each.static_value))    \n",
    "\n",
    "    # pull down list of device groups\n",
    "    device_groups = DeviceGroup.refreshall(pan)\n",
    "\n",
    "    # loop over device groups and perform the same actions\n",
    "    for dg in device_groups:\n",
    "\n",
    "        # start with address objects\n",
    "        dg_address_objects = AddressObject.refreshall(dg)\n",
    "        for each in dg_address_objects:\n",
    "            address_objects.append((dg.name, each.name, each.value, each.type))\n",
    "\n",
    "        # finish with address groups\n",
    "        dg_address_groups = AddressGroup.refreshall(dg)\n",
    "        for each in dg_address_groups:\n",
    "            if each.static_value:\n",
    "                if not each.description:\n",
    "                    each.description = \"\"\n",
    "                address_groups.append((dg.name, each.name, each.description, each.static_value))    \n",
    "    \n",
    "    # return our address_groups and address_objects to the main function\n",
    "    return address_groups, address_objects\n"
   ]
  },
  {
   "cell_type": "code",
   "execution_count": 4,
   "metadata": {},
   "outputs": [],
   "source": [
    "def main(address_groups, address_objects, search):\n",
    "    # create a placeholder for our potential match\n",
    "    match = {}\n",
    "\n",
    "    # loop over the address objects\n",
    "    for each in address_objects:\n",
    "\n",
    "        # if there is a positive match, then update our match object\n",
    "        if search in each:\n",
    "            match[\"source\"] = each[0]\n",
    "            match[\"name\"] = each[1]\n",
    "\n",
    "    # create a placeholder for our potential groups\n",
    "    associated_groups = []\n",
    "\n",
    "    # loop over the address groups\n",
    "    for each in address_groups:\n",
    "\n",
    "        # if there is a positive match, then update our associated_groups object\n",
    "        if match[\"name\"] in each[3]:\n",
    "            associated_groups.append(each)\n",
    "    \n",
    "    # let's finally loop over our associated_groups object to see if a group is nested\n",
    "    for each in associated_groups:\n",
    "\n",
    "        # loop over our address_groups object again, looking to find a match\n",
    "        for group in address_groups:\n",
    "            \n",
    "            # append when we see the name of our address group matched in another address group\n",
    "            if each[1] in group[3]:\n",
    "                associated_groups.append(group)\n",
    "    \n",
    "    return associated_groups"
   ]
  },
  {
   "cell_type": "markdown",
   "metadata": {},
   "source": [
    "## Execute\n",
    "\n",
    "This is where the execution takes place."
   ]
  },
  {
   "cell_type": "code",
   "execution_count": 5,
   "metadata": {},
   "outputs": [
    {
     "name": "stderr",
     "output_type": "stream",
     "text": [
      "usage: ipykernel_launcher.py [-h] --prefix PREFIX\n",
      "ipykernel_launcher.py: error: the following arguments are required: --prefix\n"
     ]
    },
    {
     "ename": "SystemExit",
     "evalue": "2",
     "output_type": "error",
     "traceback": [
      "An exception has occurred, use %tb to see the full traceback.\n",
      "\u001b[0;31mSystemExit\u001b[0m\u001b[0;31m:\u001b[0m 2\n"
     ]
    },
    {
     "name": "stderr",
     "output_type": "stream",
     "text": [
      "/home/cdot/.cache/pypoetry/virtualenvs/pan-python-examples-HGigl0lv-py3.10/lib/python3.10/site-packages/IPython/core/interactiveshell.py:3441: UserWarning: To exit: use 'exit', 'quit', or Ctrl-D.\n",
      "  warn(\"To exit: use 'exit', 'quit', or Ctrl-D.\", stacklevel=1)\n"
     ]
    }
   ],
   "source": [
    "if __name__ == \"__main__\":\n",
    "    # create instance of argparse\n",
    "    parser = argparse.ArgumentParser()\n",
    "\n",
    "    # Add an argument\n",
    "    parser.add_argument('--prefix', type=str, required=True)\n",
    "\n",
    "    # Parse the argument\n",
    "    args = parser.parse_args()\n",
    "\n",
    "    # Print \"Hello\" + the user input argument\n",
    "    print('Hello,', args.prefix)\n",
    "\n",
    "    # pull in our configuration objects\n",
    "    address_groups, address_objects = grab_config()\n",
    "\n",
    "    # take in our search parameter in the form of a string\n",
    "    # prefix = \"10.232.210.0/26\"\n",
    "\n",
    "    # pass them into the main function\n",
    "    associated_groups = main(address_groups, address_objects, prefix)\n",
    "    df = pd.DataFrame(associated_groups)\n",
    "    print(tabulate(df, headers='keys', tablefmt='psql'))\n"
   ]
  }
 ],
 "metadata": {
  "kernelspec": {
   "display_name": "Python 3.10.6 ('pan-python-examples-HGigl0lv-py3.10')",
   "language": "python",
   "name": "python3"
  },
  "language_info": {
   "codemirror_mode": {
    "name": "ipython",
    "version": 3
   },
   "file_extension": ".py",
   "mimetype": "text/x-python",
   "name": "python",
   "nbconvert_exporter": "python",
   "pygments_lexer": "ipython3",
   "version": "3.10.6"
  },
  "orig_nbformat": 4,
  "vscode": {
   "interpreter": {
    "hash": "f1a4ef8e679d91686b083db8492cadf5a1892683c04450e7c29cd2191235da4a"
   }
  }
 },
 "nbformat": 4,
 "nbformat_minor": 2
}
